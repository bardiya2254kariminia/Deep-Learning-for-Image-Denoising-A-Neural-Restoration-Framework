{
 "cells": [
  {
   "cell_type": "code",
   "execution_count": 5,
   "metadata": {},
   "outputs": [],
   "source": [
    "import os,sys\n",
    "import tqdm as tqdm\n",
    "import torch\n",
    "import torch.nn as nn\n",
    "from PIL import Image\n",
    "from torchvision.transforms import transforms\n",
    "from  torch.utils.data import DataLoader\n",
    "sys.path.append(os.path.abspath(os.path.dirname(os.getcwd())))\n",
    "from Dataset.datasets import STL10 , CIFAR100\n",
    "from Dataset.augmentation import Augmentation\n",
    "from config.path_config import *\n",
    "from models.networks import Unet,VAE\n",
    "from utils import *"
   ]
  },
  {
   "cell_type": "code",
   "execution_count": 6,
   "metadata": {},
   "outputs": [],
   "source": [
    "class Coach(object):\n",
    "    def __init__(self , opts):\n",
    "        self.opts = opts\n",
    "\n",
    "    def train(self):\n",
    "        pass\n",
    "\n",
    "    def test_single(self):\n",
    "        pass\n",
    "    \n",
    "    def forward_pass(self):\n",
    "        pass\n",
    "\n",
    "    def calc_loss(self):\n",
    "        pass\n",
    "    \n",
    "    def save_weigths(self):\n",
    "        pass\n",
    "\n",
    "    def load_weigths(self):\n",
    "        pass"
   ]
  },
  {
   "cell_type": "markdown",
   "metadata": {},
   "source": [
    "#"
   ]
  },
  {
   "cell_type": "code",
   "execution_count": null,
   "metadata": {},
   "outputs": [],
   "source": []
  }
 ],
 "metadata": {
  "kernelspec": {
   "display_name": "Python 3",
   "language": "python",
   "name": "python3"
  },
  "language_info": {
   "codemirror_mode": {
    "name": "ipython",
    "version": 3
   },
   "file_extension": ".py",
   "mimetype": "text/x-python",
   "name": "python",
   "nbconvert_exporter": "python",
   "pygments_lexer": "ipython3",
   "version": "3.8.10"
  }
 },
 "nbformat": 4,
 "nbformat_minor": 2
}
